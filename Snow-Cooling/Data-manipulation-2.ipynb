{
 "cells": [
  {
   "cell_type": "code",
   "execution_count": null,
   "metadata": {},
   "outputs": [],
   "source": [
    "import sys  \n",
    "sys.path.insert(0, '../Libraries/') "
   ]
  },
  {
   "cell_type": "code",
   "execution_count": null,
   "metadata": {},
   "outputs": [],
   "source": [
    "import matplotlib.pyplot as plt\n",
    "import numpy as np\n",
    "import pandas as pd\n"
   ]
  },
  {
   "cell_type": "markdown",
   "metadata": {},
   "source": [
    "# Weather data\n",
    "* Source: https://www.visualcrossing.com/ Fee for uploading more than 100 lines of info. Please contact me with your needs, I will happily pay for your data\n",
    "* Units: Wind is km/h, Temperature Celsius, Solar Radiation W/m^2\n"
   ]
  },
  {
   "cell_type": "code",
   "execution_count": null,
   "metadata": {},
   "outputs": [],
   "source": [
    "\n",
    "weather = pd.read_excel(\"Climate/EssexJct-05012020-10312020.xlsx\",header=0,date_parser=[5],)"
   ]
  },
  {
   "cell_type": "code",
   "execution_count": null,
   "metadata": {},
   "outputs": [],
   "source": [
    "weather.columns"
   ]
  },
  {
   "cell_type": "code",
   "execution_count": null,
   "metadata": {},
   "outputs": [],
   "source": [
    "weather = weather.set_index('Date time')"
   ]
  },
  {
   "cell_type": "code",
   "execution_count": null,
   "metadata": {},
   "outputs": [],
   "source": [
    "weather['Solar Radiation'] = weather['Solar Radiation'].fillna(0.0)"
   ]
  },
  {
   "cell_type": "markdown",
   "metadata": {},
   "source": [
    "# The slab problem\n",
    "\n",
    "A slab made of insulation foam panels with thermal conductivity $k = 0.022 \\mathrm{W}/\\mathrm{m}.\\mathrm{K}$ (https://www.poliuretano.it/EN/thermal_conductivity_polyurethane.html), thickness $5\\mathrm{cm}$ and  dimensions $10\\times10\\mathrm{m}^2$ is subjected to the weather of Essex Junction, VT. The bottom surface temperature is maintained at a constant temperature $T_{s,lower}$. **Compute the weekly, monthly and total heat rate necessary to maintain** $T_{s,lower}=0^\\circ\\mathrm{C}$ \n",
    "\n",
    "### Assumptions:\n",
    "* The heat transfer from rain is not considered\n",
    "* The position of the sun is not considered (The plate receives the full solar irradiation)\n",
    "* The direction of the wind is always assumed to be perpendicular to one of the edges of the plate\n",
    "* The time scale of the fluctuations of wall heat flux from convection and radiation are long enough that the temperature profile can be approximated as linear at all times\n",
    "* The upper surface temperature is assumed to be spatially uniform\n",
    "\n",
    "### Equations\n",
    "\n",
    "The heat rate necessary to keep the lower surface at $0^\\circ\\mathrm{C}$ is\n",
    "$$\n",
    "q''_{cond}=\\frac{k}{H}\\left(T_{s,upper}-T_{s,lower}\\right)\n",
    "$$\n",
    "\n",
    "To determine $T_{s,upper}$, the conservation of energy is applied to the upper surface:\n",
    "$$\n",
    "\\rho C_p \\frac{dT_{s,upper}}{dt}AH = g(T_{s,upper},t)=\\sum q_{in}-\\sum q_{out}\n",
    "$$\n",
    "or using $T=T_{s,upper}$\n",
    "$$\n",
    "\\frac{dT}{dt} = f(T,t)=\\frac{1}{\\rho C_pAH}\\sum q_{in}-\\sum q_{out}\n",
    "$$\n",
    "For now we consider only the effect from convection and solar irradiation, assuming that the irradiation reported in the data is absorbed by the surface with an absorptivity $\\alpha_s$.\n",
    "\n",
    "$$\n",
    "\\sum q_{in}= hA(T_\\infty - T_{s,upper})\n",
    "$$\n",
    "$$\n",
    "\\sum q_{out}=\\frac{kA}{H}(T_{s,upper} - T_{s,lower})\n",
    "$$\n",
    "Note that when $T_\\infty$ is lower than $T_{s,upper}$, the $\\sum q_{in}$ is negative which is the correct physical process. The convection coefficient is to be determined with the appropiate correlation. \n",
    "\n",
    "For the initial condition, $t=0$, $T_{s,upper}$ is assumed to be at ambient temperature. The solution of the conservation of energy is updated numerically. \n",
    "\n",
    "The simplest, but least accurate method, is the Euler method, where\n",
    "$$\n",
    "\\frac{dT}{dt} = \\frac{T(t+\\Delta t)-T(t)}{\\Delta t}\n",
    "$$\n",
    "or\n",
    "\n",
    "$$\n",
    "T(t+\\Delta t)=T(t)+(\\Delta t)f(T,t)\n",
    "$$\n",
    "\n",
    "This method's error is first order, i.e. the leading term in the truncation error term is affected by $\\Delta t$. It is also an unstable time integration method unless $\\Delta t$ is very small. To increase accuracy and stability we propose to use the second order predictor-corrector method, which is a two step process. The first step is to estimate $T$ and $t+\\Delta t$ using the information available at $t$\n",
    "* **Predictor step**\n",
    "\n",
    "$$\n",
    "T^*=T(t)+(\\Delta t)f(T,t)\n",
    "$$\n",
    "\n",
    "The second is to correct this estimate by taking the average of the RHS, $f$, of our ODE between the predictor step and the RHS at $f(T^*,t+\\Delta t)$\n",
    "\n",
    "* **Corrector step**\n",
    "\n",
    "$$\n",
    "T(t+\\Delta t)=T(t)+\\frac{(\\Delta t)}{2}\\left[f(T,t)+f(T^*,t+\\Delta t)\\right]\n",
    "$$\n",
    "This method is second order accurate in time.\n",
    "\n",
    "### The stability problem\n",
    "\n",
    "Even with the predictor corrector, the time step of integration cannot be too large. The $15\\mathrm{min}$ increment of the data is too long and leads to `NaN` quickly into the simulation. \n",
    "\n",
    "The following cell interpolates the data for a smaller time increment. Obviously the smaller the increment, the larger computational time.\n",
    "\n",
    "With the entire data, the difference between $\\Delta t=60\\mathrm{s}$ and $\\Delta t = 120\\mathrm{s}$ is negligible, however the temperature diverges for $\\Delta t = 240\\mathrm{s}$ around August.\n",
    "\n",
    "### More robust approach\n",
    "\n",
    "Stiff integrators are higher order method for time dependent systems of ODE of the form\n",
    "$$\n",
    "\\frac{dy}{dt}=f(t,y)\n",
    "$$\n",
    "where $y$ is a vector of variable. These integrators are available in the function `from scipy.integrate import solve_ivp`, where ivp stands for initial value problem. The following cells mirrors the solution of noetbook `Data-manipulation-2`, using `solve_ivp`\n",
    "\n",
    "Note that some of the data in the spreadsheet is missing, hence the `interpolate` step to reconstruct the missing data"
   ]
  },
  {
   "cell_type": "markdown",
   "metadata": {},
   "source": [
    "### Berdhal and Martin (1984) model\n",
    "\n",
    "* $c\\in[0,1]$ cloudiness\n",
    "* $T_{air}\\, [^\\circ\\mathrm{K}]$ Air temperature\n",
    "* $T_{dp}\\, [\\circ\\mathrm{C}]$ Dew point temperature , note unit\n",
    "\n",
    "$$\n",
    "\\varepsilon_{clear} = 0.711 + 0.56(T_{dp}/100.) + 0.73(T_{dp}/100.)^2\n",
    "$$\n",
    "$$\n",
    "C_a = 1. + 0.02224c + 0.0035c^2 + 0.00028c^3\n",
    "$$\n",
    "$$\n",
    "T_{sky}=(C_a\\varepsilon_{clear})^{0.25}T_{air}\n",
    "$$\n",
    "$$\n",
    "\\epsilon_{sky}=1\n",
    "$$"
   ]
  },
  {
   "cell_type": "code",
   "execution_count": null,
   "metadata": {},
   "outputs": [],
   "source": [
    "from scipy.interpolate import interp1d\n",
    "t_data = np.arange(0,weather.shape[0]*15*60,15*60)\n",
    "weather['Wind Speed'] = weather['Wind Speed'].interpolate('cubic')\n",
    "weather['Temperature'] = weather['Temperature'].interpolate('cubic')\n",
    "weather['Solar Radiation'] = weather['Solar Radiation'].interpolate('cubic')\n",
    "weather['Cloud Cover'] = weather['Cloud Cover'].interpolate('cubic')\n",
    "weather['Dew Point'] = weather['Dew Point'].interpolate('cubic')\n",
    "U_atm = np.abs(weather['Wind Speed'][:].to_numpy()/3.6)\n",
    "T_atm = weather['Temperature'][:].to_numpy()\n",
    "q_sun = weather['Solar Radiation'][:].to_numpy()\n",
    "f_U_atm = interp1d(t_data,U_atm,kind='cubic')\n",
    "f_T_atm = interp1d(t_data,T_atm,kind='cubic')\n",
    "f_q_sun = interp1d(t_data,q_sun,kind='cubic')\n"
   ]
  },
  {
   "cell_type": "code",
   "execution_count": null,
   "metadata": {},
   "outputs": [],
   "source": [
    "import scipy.constants as csts\n",
    "from scipy.integrate import solve_ivp\n",
    "import thermodynamics as thermo\n",
    "import HT_external_convection as extconv\n",
    "import HT_natural_convection as natconv\n",
    "rho = 20.\n",
    "C_p = 2500.\n",
    "k = 0.05\n",
    "H = 0.05\n",
    "alpha_s = 0.5\n",
    "eps = 0.5\n",
    "Lplate = 1.\n",
    "A = Lplate**2\n",
    "T_s_lower = 0.\n",
    "\n",
    "def f(t,T):\n",
    "    global Lplate,k,H,eps,f_U_atm,f_T_atm,f_q_sun,rho,C_p,alpha_s,f_CC,f_T_dp\n",
    "    # film temperature between ambient and upper surface\n",
    "    Tinf = f_T_atm(t)\n",
    "    Uinf = np.max([f_U_atm(t),0.])\n",
    "    q_irr = alpha_s*f_q_sun(t)\n",
    "    T_f = (T[0]+Tinf)/2\n",
    "    air_f = thermo.Fluid('air',T_f,\"C\")\n",
    "    \n",
    "    Re = np.abs(Uinf)*Lplate/air_f.nu\n",
    "    Gr = natconv.Gr(beta=air_f.beta,DT=np.abs(T-T_f),D=Lplate,nu=air_f.nu)\n",
    "    Ra = natconv.Ra(beta=air_f.beta,DT=np.abs(T-T_f),D=Lplate,nu=air_f.nu,alpha=air_f.alpha)\n",
    "# Debug\n",
    "#     Ri = Gr/Re**2\n",
    "#     if i>1050:\n",
    "#         print(i,\"Re=%1.2e, Ra=%1.2e, Ri=%1.2e\"%(Re,Ra,Ri))\n",
    "#         print(i,Uinf,air_f.nu,air_f.alpha)\n",
    "    # Forced convection flux\n",
    "    if Re >0 and (Re <= 5e5):\n",
    "        airflow = extconv.FlatPlate('laminar','isothermal',U_infty=Uinf,nu=air_f.nu,alpha=air_f.alpha, L=Lplate,xi=0,Re_xc= 5e5)\n",
    "        airflow.average(Lplate)\n",
    "        hconv_f = airflow.Nu_ave*air_f.k/Lplate\n",
    "    elif Re > 5e5:\n",
    "        airflow = extconv.FlatPlate('mixed','isothermal',U_infty=Uinf,nu=air_f.nu,alpha=air_f.alpha, L=Lplate,xi=0,Re_xc= 5e5)\n",
    "        airflow.average(Lplate)\n",
    "        hconv_f = airflow.Nu_ave*air_f.k/Lplate\n",
    "    else:\n",
    "        hconv_f = 0\n",
    "    #Natural convection flux\n",
    "    if Ra > 1e4:\n",
    "        if T[0] >= Tinf:\n",
    "            airflow = natconv.FlatPlate(Ra,air_f.Pr,'upper','hot')\n",
    "        else:\n",
    "            airflow = natconv.FlatPlate(Ra,air_f.Pr,'upper','cold')\n",
    "        hconv_n = airflow.Nu*air_f.k/Lplate\n",
    "    else:\n",
    "        hconv_n = 0\n",
    "    #Total convection flux (here not a function of Ri)\n",
    "    h = hconv_n + hconv_f\n",
    "    \n",
    "    qpp_conv = h*(Tinf - T[0])\n",
    "    #Conduction flux\n",
    "    qpp_cond = k*(T[0] - T_s_lower)/H\n",
    "#     if i > 1050:\n",
    "#         print(i,hconv_n, hconv_f)\n",
    "#         print(i,\"DT\",Tinf - T,T - T_s_lower)\n",
    "#         print(i,\"qpp\",qpp_conv,qpp_cond)    \n",
    "    \n",
    "#     print(q_irr,qpp_conv,qsky)\n",
    "#     print(T_f,Tsky,cc,Ca,eps_clear,csts.sigma)\n",
    "    return (q_irr+qpp_conv - qpp_cond)/(rho*C_p)\n",
    "\n",
    "# Simulation\n",
    "\n",
    "# f(8000,[15])\n",
    "# sol = solve_ivp(f,[0,t_data[-1]],[0.],t_eval=t_data,max_step=60.)\n",
    "tmax = t_data[-1]\n",
    "mask = np.where(t_data <= tmax)\n",
    "sol = solve_ivp(f,[0,tmax],[10.],method='LSODA',t_eval=t_data[mask],max_step=5*60.)\n",
    "\n",
    "# sol = solve_ivp(f,[0,100000],[0.])"
   ]
  },
  {
   "cell_type": "code",
   "execution_count": null,
   "metadata": {},
   "outputs": [],
   "source": [
    "weather['Ts upper'] = sol.y[0]\n",
    "weather['q out'] = k*A*sol.y[0]/H\n",
    "weather['q irr'] = alpha_s*weather['Solar Radiation'][:]*A"
   ]
  },
  {
   "cell_type": "code",
   "execution_count": null,
   "metadata": {},
   "outputs": [],
   "source": [
    "ax0 = weather.plot(y='q irr')\n",
    "weather.plot(y='q out',ax = ax0)\n"
   ]
  },
  {
   "cell_type": "code",
   "execution_count": null,
   "metadata": {},
   "outputs": [],
   "source": [
    "weather['q out'].sum()"
   ]
  },
  {
   "cell_type": "code",
   "execution_count": null,
   "metadata": {},
   "outputs": [],
   "source": [
    "# weather['Temperature'].interpolate(method='spline')\n",
    "np.argwhere(np.isnan(weather['Temperature'][:].to_numpy()))"
   ]
  },
  {
   "cell_type": "code",
   "execution_count": null,
   "metadata": {},
   "outputs": [],
   "source": [
    "\n",
    "ax0 = weather.plot(y='Ts upper')\n",
    "weather.plot(y='Temperature',ax = ax0)"
   ]
  },
  {
   "cell_type": "code",
   "execution_count": null,
   "metadata": {},
   "outputs": [],
   "source": [
    "weather_1H = weather.resample(\"1H\").mean()\n",
    "weather_1H['Energy slab'] = k*A/H*weather_1H['Ts upper']"
   ]
  },
  {
   "cell_type": "code",
   "execution_count": null,
   "metadata": {},
   "outputs": [],
   "source": [
    "ax0 = weather_1H.plot(y='Ts upper')\n",
    "weather_1H.plot(y='Temperature',ax = ax0)"
   ]
  },
  {
   "cell_type": "code",
   "execution_count": null,
   "metadata": {},
   "outputs": [],
   "source": [
    "weather_1H.plot(y='Energy slab')"
   ]
  },
  {
   "cell_type": "code",
   "execution_count": null,
   "metadata": {},
   "outputs": [],
   "source": [
    "weather_1H['Energy slab'].sum()"
   ]
  },
  {
   "cell_type": "code",
   "execution_count": null,
   "metadata": {},
   "outputs": [],
   "source": []
  }
 ],
 "metadata": {
  "kernelspec": {
   "display_name": "Python 3",
   "language": "python",
   "name": "python3"
  },
  "language_info": {
   "codemirror_mode": {
    "name": "ipython",
    "version": 3
   },
   "file_extension": ".py",
   "mimetype": "text/x-python",
   "name": "python",
   "nbconvert_exporter": "python",
   "pygments_lexer": "ipython3",
   "version": "3.8.5"
  }
 },
 "nbformat": 4,
 "nbformat_minor": 4
}
