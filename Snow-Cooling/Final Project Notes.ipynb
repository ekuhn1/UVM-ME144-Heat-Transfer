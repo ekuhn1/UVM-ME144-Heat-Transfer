{
 "cells": [
  {
   "cell_type": "markdown",
   "metadata": {},
   "source": [
    "# Summer cooling of a building with stored snow\n",
    "\n",
    "## Objective\n",
    "\n",
    "The objective of this project is develop a comprehensive heat transfer model of a cooling system for a building of your choice using a pile of snow stored over the summer\n",
    "\n",
    "## Background\n",
    "\n",
    "The Sundvall hospital (Sweden) has been a test bed for this technology for nearly two decades. Two recent papers review the set up and operation of this facility (See MT `ME144B Heat Transfer > Files> Snow Cooling Project`). **Everyone should read them** \n",
    "\n",
    "## Choice of building\n",
    "\n",
    "It is understood that the determination of the cooling load is not an easy task. Some helpful guidance can be found here: https://www.nrel.gov/docs/fy11osti/51603.pdf \n",
    "\n",
    "You are asked to provide **only an approximate cooling load**. This project calls for a heat transfer analysis to predict the fluctuations of heat load as a function of the outside atmospheric conditions. The more complex the building, the more difficult the analysis. \n",
    "\n",
    "**Unless the correlation outside conditions-heat load is available, choose a simple building, e.g. a rectangular shape with constant wall thickness made of wood or concrete and insulation**. Note that the heat transfer analysis on the outside of the building is the same as for your snow pile.\n",
    "\n",
    "## Simplifying assumptions\n",
    "\n",
    "* Solar radiation is not corrected for lattitude and longitude. This results in an overestimation of the heat load from the sun\n",
    "* If using wood-based insulation material on the snow pile, state clearly your assumption for the conduction heat transfer and its effect on your calculations\n",
    "* The thermal conductivity of the soil is assumed to be constant and the temperature at 6ft (2m) is also assumed to be constant. State how you choose both\n",
    "* The snow pile is assumed to be at uniform temperature ($0^\\circ\\mathrm{C}$)\n",
    "* The effect of the melt water accumulation on the edge of the snow pile is neglected\n",
    "* The volume reduction of the snow pile does not lead to reduction in surface area of the pile exposed to atmospheric conditions\n",
    "\n",
    "## Constraints\n",
    "\n",
    "* The snow pile has to be at least 50m from the building.\n",
    "* Use the Sundvall approach of heat exchanger **whether you choose to use the melt runoff or a closed loop**\n",
    "* Calculate power necessary to move fluids in pipes.\n",
    "* Structure you code so that critical parameters can easily be changed: weather data, insulation choice on the snow pile, geometry of the pile, diameter of the cooling system's pipe, etc...\n"
   ]
  },
  {
   "cell_type": "code",
   "execution_count": null,
   "metadata": {},
   "outputs": [],
   "source": []
  }
 ],
 "metadata": {
  "kernelspec": {
   "display_name": "Python 3",
   "language": "python",
   "name": "python3"
  },
  "language_info": {
   "codemirror_mode": {
    "name": "ipython",
    "version": 3
   },
   "file_extension": ".py",
   "mimetype": "text/x-python",
   "name": "python",
   "nbconvert_exporter": "python",
   "pygments_lexer": "ipython3",
   "version": "3.8.5"
  }
 },
 "nbformat": 4,
 "nbformat_minor": 4
}
